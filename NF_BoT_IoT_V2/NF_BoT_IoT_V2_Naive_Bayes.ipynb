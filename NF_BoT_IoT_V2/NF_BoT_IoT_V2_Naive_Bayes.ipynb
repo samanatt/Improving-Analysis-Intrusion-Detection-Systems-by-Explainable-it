{
  "nbformat": 4,
  "nbformat_minor": 0,
  "metadata": {
    "colab": {
      "provenance": []
    },
    "kernelspec": {
      "name": "python3",
      "display_name": "Python 3"
    },
    "language_info": {
      "name": "python"
    }
  },
  "cells": [
    {
      "cell_type": "code",
      "execution_count": 1,
      "metadata": {
        "id": "lQ1RWAkeIKH9"
      },
      "outputs": [],
      "source": [
        "import pandas as pd\n",
        "import time\n",
        "from google.colab import drive\n",
        "from sklearn.model_selection import train_test_split\n",
        "from sklearn.naive_bayes import GaussianNB  # Example model\n",
        "from sklearn.model_selection import GridSearchCV\n",
        "from sklearn.metrics import accuracy_score, f1_score, recall_score, confusion_matrix, classification_report\n",
        "\n",
        "import joblib\n"
      ]
    },
    {
      "cell_type": "code",
      "source": [
        "# Mount Google Drive\n",
        "drive.mount('/content/drive')\n",
        "\n",
        "# Load dataset from Google Drive\n",
        "drive_path = '/content/drive/MyDrive/IDS data sets/'\n",
        "train_file_minmax = drive_path + 'NF-BoT-IoT-V2_5000 samples_minmax_normalized_train.csv'\n",
        "test_file_minmax = drive_path + 'NF-BoT-IoT-V2_5000 samples_minmax_normalized_test.csv'\n",
        "\n",
        "train_data = pd.read_csv(train_file_minmax)\n",
        "test_data = pd.read_csv(test_file_minmax)"
      ],
      "metadata": {
        "colab": {
          "base_uri": "https://localhost:8080/"
        },
        "id": "g6ORH0RhIZCD",
        "outputId": "76edb473-f124-4d97-a2a0-889010578d2a"
      },
      "execution_count": 2,
      "outputs": [
        {
          "output_type": "stream",
          "name": "stdout",
          "text": [
            "Mounted at /content/drive\n"
          ]
        }
      ]
    },
    {
      "cell_type": "code",
      "source": [
        "print(train_data.columns)"
      ],
      "metadata": {
        "colab": {
          "base_uri": "https://localhost:8080/"
        },
        "id": "ytnTV26s05Qw",
        "outputId": "0ab402a9-c019-4b2a-8632-5285f41ac484"
      },
      "execution_count": 3,
      "outputs": [
        {
          "output_type": "stream",
          "name": "stdout",
          "text": [
            "Index(['L4_SRC_PORT', 'L4_DST_PORT', 'PROTOCOL', 'L7_PROTO', 'IN_BYTES',\n",
            "       'IN_PKTS', 'OUT_BYTES', 'OUT_PKTS', 'TCP_FLAGS', 'CLIENT_TCP_FLAGS',\n",
            "       'SERVER_TCP_FLAGS', 'FLOW_DURATION_MILLISECONDS', 'DURATION_IN',\n",
            "       'DURATION_OUT', 'MIN_TTL', 'MAX_TTL', 'LONGEST_FLOW_PKT',\n",
            "       'SHORTEST_FLOW_PKT', 'MIN_IP_PKT_LEN', 'MAX_IP_PKT_LEN',\n",
            "       'SRC_TO_DST_SECOND_BYTES', 'DST_TO_SRC_SECOND_BYTES',\n",
            "       'RETRANSMITTED_IN_BYTES', 'RETRANSMITTED_IN_PKTS',\n",
            "       'RETRANSMITTED_OUT_BYTES', 'RETRANSMITTED_OUT_PKTS',\n",
            "       'SRC_TO_DST_AVG_THROUGHPUT', 'DST_TO_SRC_AVG_THROUGHPUT',\n",
            "       'NUM_PKTS_UP_TO_128_BYTES', 'NUM_PKTS_128_TO_256_BYTES',\n",
            "       'NUM_PKTS_256_TO_512_BYTES', 'NUM_PKTS_512_TO_1024_BYTES',\n",
            "       'NUM_PKTS_1024_TO_1514_BYTES', 'TCP_WIN_MAX_IN', 'TCP_WIN_MAX_OUT',\n",
            "       'ICMP_TYPE', 'ICMP_IPV4_TYPE', 'DNS_QUERY_ID', 'DNS_QUERY_TYPE',\n",
            "       'DNS_TTL_ANSWER', 'FTP_COMMAND_RET_CODE', 'Attack'],\n",
            "      dtype='object')\n"
          ]
        }
      ]
    },
    {
      "cell_type": "code",
      "source": [
        "X_train = train_data.drop(columns=['Attack'])\n",
        "y_train = train_data['Attack']"
      ],
      "metadata": {
        "id": "doRSZM0HzJ7f"
      },
      "execution_count": 4,
      "outputs": []
    },
    {
      "cell_type": "code",
      "source": [
        "X_test = test_data.drop(columns=['Attack'])\n",
        "y_test = test_data['Attack']"
      ],
      "metadata": {
        "id": "O8C_C_J80OmV"
      },
      "execution_count": 5,
      "outputs": []
    },
    {
      "cell_type": "code",
      "source": [
        "import seaborn as sns\n",
        "import matplotlib.pyplot as plt\n",
        "X = train_data.drop(['Attack'],axis= 1 )\n",
        "y = train_data.loc[:, 'Attack']\n",
        "print( train_data.loc[:, 'Attack'].value_counts())\n",
        "\n",
        "sns.countplot(data=train_data,x='Attack',color='red')"
      ],
      "metadata": {
        "colab": {
          "base_uri": "https://localhost:8080/",
          "height": 588
        },
        "id": "1US5Y7wrMGWc",
        "outputId": "e2162990-62ad-4aaa-91de-ed0dc6a340e1"
      },
      "execution_count": 6,
      "outputs": [
        {
          "output_type": "stream",
          "name": "stdout",
          "text": [
            "Attack\n",
            "DDoS              1904\n",
            "DoS               1771\n",
            "Reconnaissance     303\n",
            "Benign              21\n",
            "Theft                1\n",
            "Name: count, dtype: int64\n"
          ]
        },
        {
          "output_type": "execute_result",
          "data": {
            "text/plain": [
              "<Axes: xlabel='Attack', ylabel='count'>"
            ]
          },
          "metadata": {},
          "execution_count": 6
        },
        {
          "output_type": "display_data",
          "data": {
            "text/plain": [
              "<Figure size 640x480 with 1 Axes>"
            ],
            "image/png": "[encoded data removed]"
          },
          "metadata": {}
        }
      ]
    },
    {
      "cell_type": "code",
      "source": [
        "# Count the number of NaN values in X_train and X_test\n",
        "X_train_nan_count = X_train.isna().sum().sum()\n",
        "X_test_nan_count = X_test.isna().sum().sum()\n",
        "\n",
        "print(\"Number of NaN values in X_train:\", X_train_nan_count)\n",
        "print(\"Number of NaN values in X_test:\", X_test_nan_count)\n",
        "print(\"Number of fearures:\", X_train.shape[1])"
      ],
      "metadata": {
        "colab": {
          "base_uri": "https://localhost:8080/"
        },
        "id": "TkVKAUH6I_QH",
        "outputId": "a0ea4f21-32e4-4454-9618-0cd241f73414"
      },
      "execution_count": 7,
      "outputs": [
        {
          "output_type": "stream",
          "name": "stdout",
          "text": [
            "Number of NaN values in X_train: 4000\n",
            "Number of NaN values in X_test: 1001\n",
            "Number of fearures: 41\n"
          ]
        }
      ]
    },
    {
      "cell_type": "code",
      "source": [
        "# Display the number of NaN values per column in X_train and X_test\n",
        "print(\"NaN values in each column of X_train:\")\n",
        "print(X_train.isna().sum())\n",
        "\n",
        "print(\"\\nNaN values in each column of X_test:\")\n",
        "print(X_test.isna().sum())\n",
        "\n",
        "# Drop columns with any NaN values from X_train and X_test\n",
        "X_train = X_train.dropna(axis=1)\n",
        "X_test = X_test.dropna(axis=1)"
      ],
      "metadata": {
        "colab": {
          "base_uri": "https://localhost:8080/"
        },
        "id": "o98gdsRQJKfh",
        "outputId": "24e551f1-ca4d-4dfb-a24b-b957096b6eed"
      },
      "execution_count": 8,
      "outputs": [
        {
          "output_type": "stream",
          "name": "stdout",
          "text": [
            "NaN values in each column of X_train:\n",
            "L4_SRC_PORT                       0\n",
            "L4_DST_PORT                       0\n",
            "PROTOCOL                          0\n",
            "L7_PROTO                          0\n",
            "IN_BYTES                          0\n",
            "IN_PKTS                           0\n",
            "OUT_BYTES                         0\n",
            "OUT_PKTS                          0\n",
            "TCP_FLAGS                         0\n",
            "CLIENT_TCP_FLAGS                  0\n",
            "SERVER_TCP_FLAGS                  0\n",
            "FLOW_DURATION_MILLISECONDS        0\n",
            "DURATION_IN                       0\n",
            "DURATION_OUT                      0\n",
            "MIN_TTL                           0\n",
            "MAX_TTL                           0\n",
            "LONGEST_FLOW_PKT                  0\n",
            "SHORTEST_FLOW_PKT                 0\n",
            "MIN_IP_PKT_LEN                    0\n",
            "MAX_IP_PKT_LEN                    0\n",
            "SRC_TO_DST_SECOND_BYTES           0\n",
            "DST_TO_SRC_SECOND_BYTES           0\n",
            "RETRANSMITTED_IN_BYTES            0\n",
            "RETRANSMITTED_IN_PKTS             0\n",
            "RETRANSMITTED_OUT_BYTES           0\n",
            "RETRANSMITTED_OUT_PKTS            0\n",
            "SRC_TO_DST_AVG_THROUGHPUT         0\n",
            "DST_TO_SRC_AVG_THROUGHPUT         0\n",
            "NUM_PKTS_UP_TO_128_BYTES          0\n",
            "NUM_PKTS_128_TO_256_BYTES         0\n",
            "NUM_PKTS_256_TO_512_BYTES         0\n",
            "NUM_PKTS_512_TO_1024_BYTES        0\n",
            "NUM_PKTS_1024_TO_1514_BYTES       0\n",
            "TCP_WIN_MAX_IN                    0\n",
            "TCP_WIN_MAX_OUT                   0\n",
            "ICMP_TYPE                         0\n",
            "ICMP_IPV4_TYPE                    0\n",
            "DNS_QUERY_ID                      0\n",
            "DNS_QUERY_TYPE                    0\n",
            "DNS_TTL_ANSWER                 4000\n",
            "FTP_COMMAND_RET_CODE              0\n",
            "dtype: int64\n",
            "\n",
            "NaN values in each column of X_test:\n",
            "L4_SRC_PORT                       0\n",
            "L4_DST_PORT                       0\n",
            "PROTOCOL                          0\n",
            "L7_PROTO                          0\n",
            "IN_BYTES                          0\n",
            "IN_PKTS                           0\n",
            "OUT_BYTES                         0\n",
            "OUT_PKTS                          0\n",
            "TCP_FLAGS                         0\n",
            "CLIENT_TCP_FLAGS                  0\n",
            "SERVER_TCP_FLAGS                  0\n",
            "FLOW_DURATION_MILLISECONDS        0\n",
            "DURATION_IN                       0\n",
            "DURATION_OUT                      0\n",
            "MIN_TTL                           0\n",
            "MAX_TTL                           0\n",
            "LONGEST_FLOW_PKT                  0\n",
            "SHORTEST_FLOW_PKT                 0\n",
            "MIN_IP_PKT_LEN                    0\n",
            "MAX_IP_PKT_LEN                    0\n",
            "SRC_TO_DST_SECOND_BYTES           0\n",
            "DST_TO_SRC_SECOND_BYTES           0\n",
            "RETRANSMITTED_IN_BYTES            0\n",
            "RETRANSMITTED_IN_PKTS             0\n",
            "RETRANSMITTED_OUT_BYTES           0\n",
            "RETRANSMITTED_OUT_PKTS            0\n",
            "SRC_TO_DST_AVG_THROUGHPUT         0\n",
            "DST_TO_SRC_AVG_THROUGHPUT         0\n",
            "NUM_PKTS_UP_TO_128_BYTES          0\n",
            "NUM_PKTS_128_TO_256_BYTES         0\n",
            "NUM_PKTS_256_TO_512_BYTES         0\n",
            "NUM_PKTS_512_TO_1024_BYTES        0\n",
            "NUM_PKTS_1024_TO_1514_BYTES       0\n",
            "TCP_WIN_MAX_IN                    0\n",
            "TCP_WIN_MAX_OUT                   0\n",
            "ICMP_TYPE                         0\n",
            "ICMP_IPV4_TYPE                    0\n",
            "DNS_QUERY_ID                      0\n",
            "DNS_QUERY_TYPE                    0\n",
            "DNS_TTL_ANSWER                 1001\n",
            "FTP_COMMAND_RET_CODE              0\n",
            "dtype: int64\n"
          ]
        }
      ]
    },
    {
      "cell_type": "code",
      "source": [
        "X_train.shape[0]"
      ],
      "metadata": {
        "colab": {
          "base_uri": "https://localhost:8080/"
        },
        "id": "qUNaYc0sNg5C",
        "outputId": "716eb13c-3a8f-4ce1-de79-02c1f4168e17"
      },
      "execution_count": 9,
      "outputs": [
        {
          "output_type": "execute_result",
          "data": {
            "text/plain": [
              "4000"
            ]
          },
          "metadata": {},
          "execution_count": 9
        }
      ]
    },
    {
      "cell_type": "code",
      "source": [
        "y_train.shape[0]"
      ],
      "metadata": {
        "colab": {
          "base_uri": "https://localhost:8080/"
        },
        "id": "kyhKiCtFQ5kU",
        "outputId": "6ca6a80e-d4cb-4404-dc1a-5a0d71e7c070"
      },
      "execution_count": 10,
      "outputs": [
        {
          "output_type": "execute_result",
          "data": {
            "text/plain": [
              "4000"
            ]
          },
          "metadata": {},
          "execution_count": 10
        }
      ]
    },
    {
      "cell_type": "code",
      "source": [
        "NB = GaussianNB()\n",
        "NB.fit(X_train,y_train)\n",
        "\n",
        "# Start time\n",
        "start_time = time.time()\n",
        "\n",
        "y_pred_NB = NB.predict(X_test)\n",
        "\n",
        "# End time\n",
        "end_time = time.time()\n",
        "\n",
        "# Calculate execution time\n",
        "execution_time = end_time - start_time\n",
        "print(f\"Execution time for Naive Bayes classifier: {execution_time:.5f} seconds\")\n",
        "\n",
        "y_pred_NB"
      ],
      "metadata": {
        "colab": {
          "base_uri": "https://localhost:8080/"
        },
        "id": "-oZuSSt2NzSK",
        "outputId": "65e7d298-8dfa-413f-ca9c-a351201dff8b"
      },
      "execution_count": 11,
      "outputs": [
        {
          "output_type": "stream",
          "name": "stdout",
          "text": [
            "Execution time for Naive Bayes classifier: 0.00692 seconds\n"
          ]
        },
        {
          "output_type": "execute_result",
          "data": {
            "text/plain": [
              "array(['DDoS', 'DoS', 'DDoS', ..., 'DoS', 'DDoS', 'DoS'], dtype='<U14')"
            ]
          },
          "metadata": {},
          "execution_count": 11
        }
      ]
    },
    {
      "cell_type": "code",
      "source": [
        "joblib.dump(NB, \"/content/drive/MyDrive/IDS data sets/Naive_Base.joblib\")"
      ],
      "metadata": {
        "colab": {
          "base_uri": "https://localhost:8080/"
        },
        "id": "t9myxBkCLmNU",
        "outputId": "62e4c926-b198-41e5-f1d5-71004cc6739c"
      },
      "execution_count": 12,
      "outputs": [
        {
          "output_type": "execute_result",
          "data": {
            "text/plain": [
              "['/content/drive/MyDrive/IDS data sets/Naive_Base.joblib']"
            ]
          },
          "metadata": {},
          "execution_count": 12
        }
      ]
    },
    {
      "cell_type": "code",
      "source": [
        "rep_NB = classification_report(y_test,y_pred_NB)\n",
        "print(rep_NB)"
      ],
      "metadata": {
        "colab": {
          "base_uri": "https://localhost:8080/"
        },
        "id": "pinhMpmXRde9",
        "outputId": "c90fdb07-5a47-47af-e72d-9a12a16f273c"
      },
      "execution_count": 13,
      "outputs": [
        {
          "output_type": "stream",
          "name": "stdout",
          "text": [
            "                precision    recall  f1-score   support\n",
            "\n",
            "        Benign       0.29      0.33      0.31         6\n",
            "          DDoS       0.99      0.99      0.99       484\n",
            "           DoS       0.99      0.93      0.96       436\n",
            "Reconnaissance       0.76      0.96      0.85        75\n",
            "\n",
            "      accuracy                           0.96      1001\n",
            "     macro avg       0.75      0.80      0.78      1001\n",
            "  weighted avg       0.96      0.96      0.96      1001\n",
            "\n"
          ]
        }
      ]
    },
    {
      "cell_type": "code",
      "source": [
        "from mlxtend.plotting import plot_confusion_matrix\n",
        "conf_NB = confusion_matrix(y_test,y_pred_NB)\n",
        "fig, ax = plot_confusion_matrix(conf_mat=conf_NB,figsize=(3,3), cmap=plt.cm.Greens)\n",
        "\n",
        "plt.xlabel('Predictions', fontsize=10)\n",
        "plt.ylabel('Actuals', fontsize=10)\n",
        "plt.title('Confusion Matrix', fontsize=10)"
      ],
      "metadata": {
        "colab": {
          "base_uri": "https://localhost:8080/",
          "height": 347
        },
        "id": "woBGrr5PRw7u",
        "outputId": "7b28b80a-ae23-4a28-8814-fdf9f1359072"
      },
      "execution_count": 14,
      "outputs": [
        {
          "output_type": "execute_result",
          "data": {
            "text/plain": [
              "Text(0.5, 1.0, 'Confusion Matrix')"
            ]
          },
          "metadata": {},
          "execution_count": 14
        },
        {
          "output_type": "display_data",
          "data": {
            "text/plain": [
              "<Figure size 300x300 with 1 Axes>"
            ],
            "image/png": "[encoded data removed]"
          },
          "metadata": {}
        }
      ]
    },
    {
      "cell_type": "code",
      "source": [
        "import numpy as np\n",
        "from sklearn.model_selection import cross_val_score\n",
        "\n",
        "score_NB = cross_val_score(NB,X_train,y_train,cv=10,scoring='recall_weighted')\n",
        "avg_scores_NB = score_NB.mean()\n",
        "scores_NB_test = cross_val_score(NB, X_test, y_test ,cv = 10, scoring = 'recall_weighted')\n",
        "avg_scores_NB_test = scores_NB_test.mean()\n",
        "print(\"Train score is:\",format(avg_scores_NB))\n",
        "print(\"Test score is:\",format(avg_scores_NB_test))"
      ],
      "metadata": {
        "colab": {
          "base_uri": "https://localhost:8080/"
        },
        "id": "HBptXOd-SGuv",
        "outputId": "ab6b72aa-74fb-42fa-d0f5-82cd661b7dec"
      },
      "execution_count": 15,
      "outputs": [
        {
          "output_type": "stream",
          "name": "stderr",
          "text": [
            "/usr/local/lib/python3.10/dist-packages/sklearn/model_selection/_split.py:805: UserWarning: The least populated class in y has only 1 members, which is less than n_splits=10.\n",
            "  warnings.warn(\n"
          ]
        },
        {
          "output_type": "stream",
          "name": "stdout",
          "text": [
            "Train score is: 0.96775\n",
            "Test score is: 0.9570297029702969\n"
          ]
        },
        {
          "output_type": "stream",
          "name": "stderr",
          "text": [
            "/usr/local/lib/python3.10/dist-packages/sklearn/model_selection/_split.py:805: UserWarning: The least populated class in y has only 6 members, which is less than n_splits=10.\n",
            "  warnings.warn(\n"
          ]
        }
      ]
    },
    {
      "cell_type": "code",
      "source": [
        "X_train.shape[1]"
      ],
      "metadata": {
        "colab": {
          "base_uri": "https://localhost:8080/"
        },
        "id": "NZBM7BrohGjx",
        "outputId": "61802336-cb01-45f8-c426-d801bfd6a1dc"
      },
      "execution_count": 16,
      "outputs": [
        {
          "output_type": "execute_result",
          "data": {
            "text/plain": [
              "40"
            ]
          },
          "metadata": {},
          "execution_count": 16
        }
      ]
    },
    {
      "cell_type": "code",
      "source": [
        "X_test.shape[1]"
      ],
      "metadata": {
        "colab": {
          "base_uri": "https://localhost:8080/"
        },
        "id": "Wj7WD6IlhOtt",
        "outputId": "f98d53f8-0017-4cfd-8fbf-2476ec15b103"
      },
      "execution_count": 17,
      "outputs": [
        {
          "output_type": "execute_result",
          "data": {
            "text/plain": [
              "40"
            ]
          },
          "metadata": {},
          "execution_count": 17
        }
      ]
    },
    {
      "cell_type": "code",
      "source": [],
      "metadata": {
        "id": "Mr19bnC0hWTF"
      },
      "execution_count": 17,
      "outputs": []
    }
  ]
}