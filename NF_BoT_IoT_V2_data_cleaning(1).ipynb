{
  "nbformat": 4,
  "nbformat_minor": 0,
  "metadata": {
    "colab": {
      "provenance": []
    },
    "kernelspec": {
      "name": "python3",
      "display_name": "Python 3"
    },
    "language_info": {
      "name": "python"
    }
  },
  "cells": [
    {
      "cell_type": "code",
      "source": [
        "# import used library\n",
        "import kagglehub\n",
        "import pandas as pd\n",
        "import numpy as np\n",
        "from sklearn.model_selection import train_test_split\n",
        "from sklearn.preprocessing import RobustScaler\n",
        "from google.colab import drive\n",
        "import shutil"
      ],
      "metadata": {
        "id": "a-Y221HOjYHT"
      },
      "execution_count": 1,
      "outputs": []
    },
    {
      "cell_type": "code",
      "source": [
        "# Define constant values\n",
        "# calculate sampling step\n",
        "final_sample_amount = 5000\n",
        "sampling_step = 30420086 // final_sample_amount"
      ],
      "metadata": {
        "id": "I9xl-VscjtZ_"
      },
      "execution_count": 2,
      "outputs": []
    },
    {
      "cell_type": "code",
      "execution_count": 3,
      "metadata": {
        "colab": {
          "base_uri": "https://localhost:8080/"
        },
        "id": "awnprI1SIQnp",
        "outputId": "6f54773e-b7b1-4048-bfda-4852153429f6"
      },
      "outputs": [
        {
          "output_type": "stream",
          "name": "stdout",
          "text": [
            "Path to dataset files: /root/.cache/kagglehub/datasets/dhoogla/nfbotiotv2/versions/2\n"
          ]
        }
      ],
      "source": [
        "# Download latest version\n",
        "path = kagglehub.dataset_download(\"dhoogla/nfbotiotv2\")\n",
        "\n",
        "print(\"Path to dataset files:\", path)"
      ]
    },
    {
      "cell_type": "code",
      "source": [
        "# Define the path to the Parquet file\n",
        "parquet_file_path = f\"{path}/NF-BoT-IoT-V2.parquet\"\n",
        "\n",
        "# Load the Parquet file into a pandas DataFrame\n",
        "full_df = pd.read_parquet(parquet_file_path)\n",
        "\n",
        "# Replace inf and -inf with NaN\n",
        "full_df.replace([np.inf, -np.inf], np.nan, inplace=True)\n",
        "\n",
        "# Drop rows with any NaN values\n",
        "full_df.dropna(inplace=True)"
      ],
      "metadata": {
        "id": "1Lk6jcCn42ZX"
      },
      "execution_count": 4,
      "outputs": []
    },
    {
      "cell_type": "code",
      "source": [
        "print(f\"Shape of primary data set is {full_df.shape}\")\n",
        "print(f\"The number of samples in main data set is equal to: {len(full_df)}\")"
      ],
      "metadata": {
        "id": "EHGVsbBGJth4",
        "colab": {
          "base_uri": "https://localhost:8080/"
        },
        "outputId": "e47d2005-ccf0-47af-9d67-91721db00f9c"
      },
      "execution_count": 5,
      "outputs": [
        {
          "output_type": "stream",
          "name": "stdout",
          "text": [
            "Shape of primary data set is (30420086, 43)\n",
            "The number of samples in main data set is equal to: 30420086\n"
          ]
        }
      ]
    },
    {
      "cell_type": "code",
      "source": [
        "# Assuming full_df is your existing DataFrame\n",
        "# Create a new DataFrame with rows at multiple indices of sampling_step\n",
        "shorter_df = full_df.iloc[range(0, len(full_df), sampling_step)]\n",
        "\n",
        "# Save the new DataFrame to a CSV file\n",
        "shorter_df.to_csv('shorter dataset.csv', index=False)"
      ],
      "metadata": {
        "id": "j8hxkN1P2Iy8"
      },
      "execution_count": 6,
      "outputs": []
    },
    {
      "cell_type": "code",
      "source": [
        "print(f\"Shape of secondary data set is {shorter_df.shape}\")\n",
        "print(f\"The number of samples in shortened data set is equal to: {len(shorter_df)}\")"
      ],
      "metadata": {
        "id": "RYjOk-tzLhD5",
        "colab": {
          "base_uri": "https://localhost:8080/"
        },
        "outputId": "0b17a480-c5d6-407b-9d5d-baab3d4be798"
      },
      "execution_count": 7,
      "outputs": [
        {
          "output_type": "stream",
          "name": "stdout",
          "text": [
            "Shape of secondary data set is (5001, 43)\n",
            "The number of samples in shortened data set is equal to: 5001\n"
          ]
        }
      ]
    },
    {
      "cell_type": "code",
      "source": [
        "# Assuming shorter_df is your DataFrame\n",
        "# Get the last column name (assuming it's the label column)\n",
        "label_column = shorter_df.columns[-1]\n",
        "\n",
        "# Count occurrences of each label\n",
        "label_counts = shorter_df[label_column].value_counts()\n",
        "\n",
        "# Calculate percentages\n",
        "label_percentages = (label_counts / len(shorter_df)) * 100\n",
        "\n",
        "# Create a summary DataFrame\n",
        "summary_df = pd.DataFrame({\n",
        "    'Count': label_counts,\n",
        "    'Percentage': label_percentages\n",
        "})\n",
        "\n",
        "# Print the summary\n",
        "print(summary_df)"
      ],
      "metadata": {
        "colab": {
          "base_uri": "https://localhost:8080/"
        },
        "id": "6W1wHKKVmjpB",
        "outputId": "4bf6786d-4eef-479f-dade-8682d0ebb3c8"
      },
      "execution_count": 8,
      "outputs": [
        {
          "output_type": "stream",
          "name": "stdout",
          "text": [
            "                Count  Percentage\n",
            "Attack                           \n",
            "DDoS             2388   47.750450\n",
            "DoS              2207   44.131174\n",
            "Reconnaissance    378    7.558488\n",
            "Benign             27    0.539892\n",
            "Theft               1    0.019996\n"
          ]
        }
      ]
    },
    {
      "cell_type": "code",
      "source": [
        "# Print one row of the dataset\n",
        "print(shorter_df.iloc[658])  # Prints example row of the DataFrame"
      ],
      "metadata": {
        "id": "CO0ODBwq7817",
        "colab": {
          "base_uri": "https://localhost:8080/"
        },
        "outputId": "3f75534a-4a37-4248-dcb8-de5f944461c1"
      },
      "execution_count": 9,
      "outputs": [
        {
          "output_type": "stream",
          "name": "stdout",
          "text": [
            "L4_SRC_PORT                     -25780\n",
            "L4_DST_PORT                         80\n",
            "PROTOCOL                            17\n",
            "L7_PROTO                         188.0\n",
            "IN_BYTES                            56\n",
            "IN_PKTS                              2\n",
            "OUT_BYTES                            0\n",
            "OUT_PKTS                             0\n",
            "TCP_FLAGS                            0\n",
            "CLIENT_TCP_FLAGS                     0\n",
            "SERVER_TCP_FLAGS                     0\n",
            "FLOW_DURATION_MILLISECONDS     4294192\n",
            "DURATION_IN                        775\n",
            "DURATION_OUT                         0\n",
            "MIN_TTL                             64\n",
            "MAX_TTL                             64\n",
            "LONGEST_FLOW_PKT                    28\n",
            "SHORTEST_FLOW_PKT                   28\n",
            "MIN_IP_PKT_LEN                       0\n",
            "MAX_IP_PKT_LEN                      28\n",
            "SRC_TO_DST_SECOND_BYTES         2828.0\n",
            "DST_TO_SRC_SECOND_BYTES            0.0\n",
            "RETRANSMITTED_IN_BYTES               0\n",
            "RETRANSMITTED_IN_PKTS                0\n",
            "RETRANSMITTED_OUT_BYTES              0\n",
            "RETRANSMITTED_OUT_PKTS               0\n",
            "SRC_TO_DST_AVG_THROUGHPUT       224000\n",
            "DST_TO_SRC_AVG_THROUGHPUT            0\n",
            "NUM_PKTS_UP_TO_128_BYTES             2\n",
            "NUM_PKTS_128_TO_256_BYTES            0\n",
            "NUM_PKTS_256_TO_512_BYTES            0\n",
            "NUM_PKTS_512_TO_1024_BYTES           0\n",
            "NUM_PKTS_1024_TO_1514_BYTES          0\n",
            "TCP_WIN_MAX_IN                       0\n",
            "TCP_WIN_MAX_OUT                      0\n",
            "ICMP_TYPE                            0\n",
            "ICMP_IPV4_TYPE                       0\n",
            "DNS_QUERY_ID                         0\n",
            "DNS_QUERY_TYPE                       0\n",
            "DNS_TTL_ANSWER                       0\n",
            "FTP_COMMAND_RET_CODE               0.0\n",
            "Label                                1\n",
            "Attack                            DDoS\n",
            "Name: 4003272, dtype: object\n"
          ]
        }
      ]
    },
    {
      "cell_type": "code",
      "source": [
        "# Assuming shorter_df is your DataFrame\n",
        "# Split the DataFrame into training and testing sets\n",
        "train_df, test_df = train_test_split(shorter_df, test_size=0.2, random_state=42)\n",
        "\n",
        "# Function to calculate label percentages\n",
        "def label_percentage(df):\n",
        "    label_column = df.columns[-1]  # Assuming the last column is the label column\n",
        "    label_counts = df[label_column].value_counts()\n",
        "    percentages = (label_counts / len(df)) * 100\n",
        "    return pd.DataFrame({'Count': label_counts, 'Percentage': percentages})\n",
        "\n",
        "# Calculate percentages for training and testing sets\n",
        "train_summary = label_percentage(train_df)\n",
        "test_summary = label_percentage(test_df)\n",
        "\n",
        "# Print the summaries\n",
        "print(\"Training Set Label Summary:\")\n",
        "print(train_summary)\n",
        "\n",
        "print(\"\\nTesting Set Label Summary:\")\n",
        "print(test_summary)"
      ],
      "metadata": {
        "colab": {
          "base_uri": "https://localhost:8080/"
        },
        "id": "o8Hn8NSloudq",
        "outputId": "5bbf5191-ff43-4781-df00-c71fc152aed7"
      },
      "execution_count": 10,
      "outputs": [
        {
          "output_type": "stream",
          "name": "stdout",
          "text": [
            "Training Set Label Summary:\n",
            "                Count  Percentage\n",
            "Attack                           \n",
            "DDoS             1904      47.600\n",
            "DoS              1771      44.275\n",
            "Reconnaissance    303       7.575\n",
            "Benign             21       0.525\n",
            "Theft               1       0.025\n",
            "\n",
            "Testing Set Label Summary:\n",
            "                Count  Percentage\n",
            "Attack                           \n",
            "DDoS              484   48.351648\n",
            "DoS               436   43.556444\n",
            "Reconnaissance     75    7.492507\n",
            "Benign              6    0.599401\n"
          ]
        }
      ]
    },
    {
      "cell_type": "markdown",
      "source": [
        "**برچسب‌های داده هم نرمال شده است- نمی‌دانم کار درستی است یا خیر**"
      ],
      "metadata": {
        "id": "JdIpfC7QqpsA"
      }
    },
    {
      "cell_type": "code",
      "source": [
        "# Function to perform min-max normalization using training set parameters\n",
        "def min_max_normalize(train_df, test_df):\n",
        "    # Select all columns except the last one (label column)\n",
        "    train_features = train_df.iloc[:, :-1]\n",
        "    test_features = test_df.iloc[:, :-1]\n",
        "\n",
        "    # Calculate min and max from the training set\n",
        "    min_values = train_features.min()\n",
        "    max_values = train_features.max()\n",
        "\n",
        "    # Normalize training features\n",
        "    normalized_train_features = (train_features - min_values) / (max_values - min_values)\n",
        "\n",
        "    # Normalize testing features using training set min and max\n",
        "    normalized_test_features = (test_features - min_values) / (max_values - min_values)\n",
        "\n",
        "    # Combine normalized features with the label column\n",
        "    normalized_train_df = pd.concat([normalized_train_features, train_df.iloc[:, -1]], axis=1)\n",
        "    normalized_test_df = pd.concat([normalized_test_features, test_df.iloc[:, -1]], axis=1)\n",
        "\n",
        "    return normalized_train_df, normalized_test_df\n",
        "\n",
        "# Normalize both training and testing sets\n",
        "train_normalized, test_normalized = min_max_normalize(train_df, test_df)"
      ],
      "metadata": {
        "id": "x0iPP9w-ovHS"
      },
      "execution_count": 11,
      "outputs": []
    },
    {
      "cell_type": "code",
      "source": [
        "# Save normalized training and testing sets to CSV files\n",
        "train_normalized.to_csv('normalized_train.csv', index=False)\n",
        "test_normalized.to_csv('normalized_test.csv', index=False)\n",
        "\n",
        "# Mount Google Drive\n",
        "drive.mount('/content/drive')\n",
        "\n",
        "# Move the CSV files to Google Drive\n",
        "drive_path = '/content/drive/MyDrive/IDS data sets/'\n",
        "shutil.move('normalized_train.csv', drive_path + 'NF-BoT-IoT-V2_' + str(final_sample_amount) + ' samples_minmax_normalized_train.csv')\n",
        "shutil.move('normalized_test.csv', drive_path + 'NF-BoT-IoT-V2_' + str(final_sample_amount) + ' samples_minmax_normalized_test.csv')\n",
        "\n",
        "print(\"Files have been uploaded to Google Drive.\")"
      ],
      "metadata": {
        "colab": {
          "base_uri": "https://localhost:8080/"
        },
        "id": "Z5oSufassB9d",
        "outputId": "5337a604-3cb8-46cb-a907-1334a2bd7484"
      },
      "execution_count": 12,
      "outputs": [
        {
          "output_type": "stream",
          "name": "stdout",
          "text": [
            "Drive already mounted at /content/drive; to attempt to forcibly remount, call drive.mount(\"/content/drive\", force_remount=True).\n",
            "Files have been uploaded to Google Drive.\n"
          ]
        }
      ]
    },
    {
      "cell_type": "code",
      "source": [
        "# Print one row of the dataset\n",
        "print(train_normalized.iloc[658])  # Prints example row of the DataFrame"
      ],
      "metadata": {
        "id": "OVH6J9osMYgf",
        "colab": {
          "base_uri": "https://localhost:8080/"
        },
        "outputId": "1fa360ba-37e6-41a8-fb52-0885d7166991"
      },
      "execution_count": 13,
      "outputs": [
        {
          "output_type": "stream",
          "name": "stdout",
          "text": [
            "L4_SRC_PORT                    0.627301\n",
            "L4_DST_PORT                    0.501229\n",
            "PROTOCOL                            1.0\n",
            "L7_PROTO                       0.789916\n",
            "IN_BYTES                       0.000529\n",
            "IN_PKTS                        0.017857\n",
            "OUT_BYTES                           0.0\n",
            "OUT_PKTS                            0.0\n",
            "TCP_FLAGS                           0.0\n",
            "CLIENT_TCP_FLAGS                    0.0\n",
            "SERVER_TCP_FLAGS                    0.0\n",
            "FLOW_DURATION_MILLISECONDS     0.999804\n",
            "DURATION_IN                    0.343928\n",
            "DURATION_OUT                        0.0\n",
            "MIN_TTL                        0.503937\n",
            "MAX_TTL                        0.503937\n",
            "LONGEST_FLOW_PKT                    0.0\n",
            "SHORTEST_FLOW_PKT                   0.0\n",
            "MIN_IP_PKT_LEN                      0.0\n",
            "MAX_IP_PKT_LEN                      0.0\n",
            "SRC_TO_DST_SECOND_BYTES             0.0\n",
            "DST_TO_SRC_SECOND_BYTES             0.0\n",
            "RETRANSMITTED_IN_BYTES              0.0\n",
            "RETRANSMITTED_IN_PKTS               0.0\n",
            "RETRANSMITTED_OUT_BYTES             0.0\n",
            "RETRANSMITTED_OUT_PKTS              0.0\n",
            "SRC_TO_DST_AVG_THROUGHPUT      0.022764\n",
            "DST_TO_SRC_AVG_THROUGHPUT           0.0\n",
            "NUM_PKTS_UP_TO_128_BYTES       0.166667\n",
            "NUM_PKTS_128_TO_256_BYTES           0.0\n",
            "NUM_PKTS_256_TO_512_BYTES           0.0\n",
            "NUM_PKTS_512_TO_1024_BYTES          0.0\n",
            "NUM_PKTS_1024_TO_1514_BYTES         0.0\n",
            "TCP_WIN_MAX_IN                      0.0\n",
            "TCP_WIN_MAX_OUT                     0.0\n",
            "ICMP_TYPE                           0.0\n",
            "ICMP_IPV4_TYPE                      0.0\n",
            "DNS_QUERY_ID                        0.0\n",
            "DNS_QUERY_TYPE                      0.0\n",
            "DNS_TTL_ANSWER                      NaN\n",
            "FTP_COMMAND_RET_CODE                0.0\n",
            "Label                               1.0\n",
            "Attack                             DDoS\n",
            "Name: 27055548, dtype: object\n"
          ]
        }
      ]
    },
    {
      "cell_type": "code",
      "source": [
        "import pandas as pd\n",
        "import numpy as np\n",
        "from sklearn.preprocessing import RobustScaler\n",
        "from sklearn.model_selection import train_test_split\n",
        "\n",
        "# فرض کنید DataFrame شما در متغیر shorter_df قرار دارد\n",
        "\n",
        "# مرحله 1: جداسازی ویژگی‌ها و برچسب‌ها\n",
        "features = shorter_df.iloc[:, :-2]  # همه ستون‌ها به جز دو ستون آخر برای ویژگی‌ها\n",
        "labels = shorter_df.iloc[:, -2:]    # دو ستون آخر برای برچسب‌ها\n",
        "\n",
        "# مرحله 2: جایگزینی مقادیر بی‌نهایت با NaN\n",
        "features.replace([np.inf, -np.inf], np.nan, inplace=True)\n",
        "\n",
        "# مرحله 3: حذف سطرهای دارای NaN\n",
        "features.dropna(inplace=True)\n",
        "\n",
        "# مرحله 4: اطمینان از نوع داده‌ها\n",
        "features = features.astype(np.float64)\n",
        "\n",
        "# مرحله 5: جداسازی داده‌ها به مجموعه‌های آموزشی و آزمایشی (80/20)\n",
        "X_train, X_test, y_train, y_test = train_test_split(features, labels, test_size=0.2, random_state=42)\n",
        "\n",
        "# مرحله 6: مقداردهی اولیه RobustScaler\n",
        "scaler = RobustScaler()\n",
        "\n",
        "# مرحله 7: فیت کردن مقیاس‌ساز بر روی داده‌های آموزشی و نرمال‌سازی آن‌ها\n",
        "X_train_normalized = scaler.fit_transform(X_train)\n",
        "X_train_normalized = pd.DataFrame(X_train_normalized, columns=X_train.columns)\n",
        "\n",
        "# مرحله 8: نرمال‌سازی داده‌های آزمایشی با استفاده از پارامترهای آموزشی\n",
        "X_test_normalized = scaler.transform(X_test)\n",
        "X_test_normalized = pd.DataFrame(X_test_normalized, columns=X_test.columns)\n",
        "\n",
        "# مرحله 9: ترکیب ویژگی‌های نرمال‌شده با برچسب‌ها برای مجموعه‌های آموزشی و آزمایشی\n",
        "normalized_train_df = pd.concat([X_train_normalized, y_train.reset_index(drop=True)], axis=1)\n",
        "normalized_test_df = pd.concat([X_test_normalized, y_test.reset_index(drop=True)], axis=1)\n",
        "\n",
        "# نمایش آمار توصیفی برای داده‌های نرمال‌شده (اختیاری)\n",
        "print(normalized_train_df.describe())\n",
        "print(normalized_test_df.describe())"
      ],
      "metadata": {
        "colab": {
          "base_uri": "https://localhost:8080/"
        },
        "id": "6nvqjxZ1MOVX",
        "outputId": "7125cdf5-42d1-4785-9d4a-84cfe8e7167e"
      },
      "execution_count": 14,
      "outputs": [
        {
          "output_type": "stream",
          "name": "stdout",
          "text": [
            "       L4_SRC_PORT   L4_DST_PORT     PROTOCOL     L7_PROTO     IN_BYTES  \\\n",
            "count  4000.000000   4000.000000  4000.000000  4000.000000  4000.000000   \n",
            "mean      0.004889     48.523250     0.475500     0.474067     0.486346   \n",
            "std       0.581148   4047.142942     0.499462     0.501431    11.204755   \n",
            "min      -0.986043 -32837.000000     0.000000    -0.038674    -0.375000   \n",
            "25%      -0.498818      0.000000     0.000000     0.000000    -0.250000   \n",
            "50%       0.000000      0.000000     0.000000     0.000000     0.000000   \n",
            "75%       0.501182      0.000000     1.000000     1.000000     0.750000   \n",
            "max       1.031371  32676.000000     1.000000     1.276243   707.906250   \n",
            "\n",
            "           IN_PKTS    OUT_BYTES     OUT_PKTS    TCP_FLAGS  CLIENT_TCP_FLAGS  \\\n",
            "count  4000.000000  4000.000000  4000.000000  4000.000000       4000.000000   \n",
            "mean      0.338750    10.019500     0.163750     0.859375         -0.300625   \n",
            "std       2.759421    83.287051     0.582684     3.679459          1.408788   \n",
            "min      -1.000000     0.000000     0.000000    -1.000000         -1.000000   \n",
            "25%       0.000000     0.000000     0.000000    -1.000000         -1.000000   \n",
            "50%       0.000000     0.000000     0.000000     0.000000          0.000000   \n",
            "75%       1.000000     0.000000     0.000000     0.000000          0.000000   \n",
            "max     167.000000  3432.000000    17.000000    29.500000         19.500000   \n",
            "\n",
            "       ...  NUM_PKTS_1024_TO_1514_BYTES  TCP_WIN_MAX_IN  TCP_WIN_MAX_OUT  \\\n",
            "count  ...                  4000.000000     4000.000000      4000.000000   \n",
            "mean   ...                     0.017250        0.178453       903.240000   \n",
            "std    ...                     1.043899        6.058116      5020.353734   \n",
            "min    ...                     0.000000       -1.000000         0.000000   \n",
            "25%    ...                     0.000000       -1.000000         0.000000   \n",
            "50%    ...                     0.000000        0.000000         0.000000   \n",
            "75%    ...                     0.000000        0.000000         0.000000   \n",
            "max    ...                    66.000000      126.998047     29200.000000   \n",
            "\n",
            "          ICMP_TYPE  ICMP_IPV4_TYPE  DNS_QUERY_ID  DNS_QUERY_TYPE  \\\n",
            "count   4000.000000     4000.000000   4000.000000     4000.000000   \n",
            "mean    5170.688000       20.198000      4.805500        0.003000   \n",
            "std    12561.841365       49.069693    303.926506        0.189737   \n",
            "min        0.000000        0.000000      0.000000        0.000000   \n",
            "25%        0.000000        0.000000      0.000000        0.000000   \n",
            "50%        0.000000        0.000000      0.000000        0.000000   \n",
            "75%        0.000000        0.000000      0.000000        0.000000   \n",
            "max    35840.000000      140.000000  19222.000000       12.000000   \n",
            "\n",
            "       DNS_TTL_ANSWER  FTP_COMMAND_RET_CODE        Label  \n",
            "count          4000.0           4000.000000  4000.000000  \n",
            "mean              0.0              0.132500     0.994750  \n",
            "std               0.0              8.380036     0.072275  \n",
            "min               0.0              0.000000     0.000000  \n",
            "25%               0.0              0.000000     1.000000  \n",
            "50%               0.0              0.000000     1.000000  \n",
            "75%               0.0              0.000000     1.000000  \n",
            "max               0.0            530.000000     1.000000  \n",
            "\n",
            "[8 rows x 42 columns]\n",
            "       L4_SRC_PORT   L4_DST_PORT     PROTOCOL     L7_PROTO     IN_BYTES  \\\n",
            "count  1001.000000   1001.000000  1001.000000  1001.000000  1001.000000   \n",
            "mean     -0.014017     48.578422     0.485514     0.484164     0.295793   \n",
            "std       0.587616   3844.039603     0.500040     0.501635     0.609258   \n",
            "min      -0.985273 -32841.000000     0.000000    -0.038674    -0.375000   \n",
            "25%      -0.519150      0.000000     0.000000     0.000000    -0.250000   \n",
            "50%      -0.039016      0.000000     0.000000     0.000000     0.000000   \n",
            "75%       0.502367      0.000000     1.000000     1.000000     0.750000   \n",
            "max       1.029277  32532.000000     1.000000     1.000000     5.991071   \n",
            "\n",
            "           IN_PKTS    OUT_BYTES     OUT_PKTS    TCP_FLAGS  CLIENT_TCP_FLAGS  \\\n",
            "count  1001.000000  1001.000000  1001.000000  1001.000000       1001.000000   \n",
            "mean      0.278721    10.533467     0.161838     0.918581         -0.320679   \n",
            "std       0.811934    98.015056     0.515541     3.730163          1.246420   \n",
            "min      -1.000000     0.000000     0.000000    -1.000000         -1.000000   \n",
            "25%       0.000000     0.000000     0.000000    -1.000000         -1.000000   \n",
            "50%       0.000000     0.000000     0.000000     0.000000          0.000000   \n",
            "75%       1.000000     0.000000     0.000000     0.000000          0.000000   \n",
            "max      11.000000  2736.000000    10.000000    14.500000         14.500000   \n",
            "\n",
            "       ...  NUM_PKTS_1024_TO_1514_BYTES  TCP_WIN_MAX_IN  TCP_WIN_MAX_OUT  \\\n",
            "count  ...                  1001.000000     1001.000000      1001.000000   \n",
            "mean   ...                     0.001998        0.062219      1097.270729   \n",
            "std    ...                     0.044677        5.364852      5515.095698   \n",
            "min    ...                     0.000000       -1.000000         0.000000   \n",
            "25%    ...                     0.000000       -1.000000         0.000000   \n",
            "50%    ...                     0.000000        0.000000         0.000000   \n",
            "75%    ...                     0.000000        0.000000         0.000000   \n",
            "max    ...                     1.000000       56.031250     29200.000000   \n",
            "\n",
            "          ICMP_TYPE  ICMP_IPV4_TYPE  DNS_QUERY_ID  DNS_QUERY_TYPE  \\\n",
            "count   1001.000000     1001.000000        1001.0          1001.0   \n",
            "mean    5174.217782       20.211788           0.0             0.0   \n",
            "std    12581.047270       49.144716           0.0             0.0   \n",
            "min        0.000000        0.000000           0.0             0.0   \n",
            "25%        0.000000        0.000000           0.0             0.0   \n",
            "50%        0.000000        0.000000           0.0             0.0   \n",
            "75%        0.000000        0.000000           0.0             0.0   \n",
            "max    35840.000000      140.000000           0.0             0.0   \n",
            "\n",
            "       DNS_TTL_ANSWER  FTP_COMMAND_RET_CODE        Label  \n",
            "count          1001.0                1001.0  1001.000000  \n",
            "mean              0.0                   0.0     0.994006  \n",
            "std               0.0                   0.0     0.077227  \n",
            "min               0.0                   0.0     0.000000  \n",
            "25%               0.0                   0.0     1.000000  \n",
            "50%               0.0                   0.0     1.000000  \n",
            "75%               0.0                   0.0     1.000000  \n",
            "max               0.0                   0.0     1.000000  \n",
            "\n",
            "[8 rows x 42 columns]\n"
          ]
        }
      ]
    },
    {
      "cell_type": "code",
      "source": [
        "# Save normalized training and testing sets to CSV files\n",
        "train_normalized.to_csv('normalized_train.csv', index=False)\n",
        "test_normalized.to_csv('normalized_test.csv', index=False)\n",
        "\n",
        "# Mount Google Drive\n",
        "drive.mount('/content/drive')\n",
        "\n",
        "# Move the CSV files to Google Drive\n",
        "drive_path = '/content/drive/MyDrive/IDS data sets/'\n",
        "shutil.move('normalized_train.csv', drive_path + 'NF-BoT-IoT-V2_' + str(final_sample_amount) + ' samples_RobustScaler_normalized_train.csv')\n",
        "shutil.move('normalized_test.csv', drive_path + 'NF-BoT-IoT-V2_' + str(final_sample_amount) + ' samples_RobustScaler_normalized_test.csv')\n",
        "\n",
        "print(\"Files have been uploaded to Google Drive.\")"
      ],
      "metadata": {
        "colab": {
          "base_uri": "https://localhost:8080/"
        },
        "outputId": "e5351b21-4f1b-4f4a-b7b3-09fb7c578999",
        "id": "r5NQB-4sO6bL"
      },
      "execution_count": 15,
      "outputs": [
        {
          "output_type": "stream",
          "name": "stdout",
          "text": [
            "Drive already mounted at /content/drive; to attempt to forcibly remount, call drive.mount(\"/content/drive\", force_remount=True).\n",
            "Files have been uploaded to Google Drive.\n"
          ]
        }
      ]
    }
  ]
}